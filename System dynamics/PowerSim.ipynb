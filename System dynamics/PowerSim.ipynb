{
  "nbformat": 4,
  "nbformat_minor": 0,
  "metadata": {
    "colab": {
      "provenance": []
    },
    "kernelspec": {
      "name": "python3",
      "display_name": "Python 3"
    },
    "language_info": {
      "name": "python"
    }
  },
  "cells": [
    {
      "cell_type": "code",
      "execution_count": 13,
      "metadata": {
        "colab": {
          "base_uri": "https://localhost:8080/"
        },
        "id": "_WxemF5U9HKj",
        "outputId": "7304147a-e4c5-448a-8a76-6dc5eeb625ad"
      },
      "outputs": [
        {
          "output_type": "stream",
          "name": "stdout",
          "text": [
            "Skill_improvement = 0\tEducation_lost = 0\n",
            "Skill_fading = 1\tDemand_Multiplayer = 1.4\n",
            "DailySpending = 700\tDemand = 21\n"
          ]
        }
      ],
      "source": [
        "import math\n",
        "\n",
        "# Вычисление констант\n",
        "Edu_switch = 0\n",
        "Skill_imp_rate = 0\n",
        "Init_seller_skill = 2\n",
        "Education_cost = 30\n",
        "Skill_fade_rate = 1\n",
        "dt = 1\n",
        "Seller_skill = Init_seller_skill\n",
        "\n",
        "# Переменные и темпы\n",
        "Skill_improvement = math.floor(Skill_imp_rate * Edu_switch)\n",
        "Education_lost = Skill_improvement * Education_cost\n",
        "Skill_fading = Skill_fade_rate\n",
        "Demand_Multiplayer = 1 + (2 * Seller_skill) / 10\n",
        "DailySpending = min(200 + 500 + Education_lost, 10000)\n",
        "Demand = round(Demand_Multiplayer * 30 * (1-1/(1 + math.exp(-0.05 * (100 - 100)))))\n",
        "print(f'Skill_improvement = {Skill_improvement}\\tEducation_lost = {Education_lost}')\n",
        "print(f'Skill_fading = {Skill_fading}\\tDemand_Multiplayer = {Demand_Multiplayer}')\n",
        "print(f'DailySpending = {DailySpending}\\tDemand = {Demand}')"
      ]
    },
    {
      "cell_type": "code",
      "source": [
        "# Пошаговый расчет\n",
        "for i in range(5):\n",
        "    Skill_improvement = math.floor(Skill_imp_rate * Edu_switch)\n",
        "    Seller_skill = Seller_skill + dt * (Skill_improvement - Skill_fading)\n",
        "    Education_lost = Skill_improvement * Education_cost\n",
        "    Skill_fading = Skill_fade_rate\n",
        "    Demand_Multiplayer = 1 + (2 * Seller_skill) / 10\n",
        "    DailySpending = min(200 + 500 + Education_lost, 10000)\n",
        "    Demand = round(Demand_Multiplayer * 30 * (1-1/(1 + math.exp(-0.05 * (100 - 100)))))\n",
        "    print(f'Step {i + 1}')\n",
        "    print(f'Skill_improvement = {Skill_improvement}\\tEducation_lost = {Education_lost}')\n",
        "    print(f'Skill_fading = {Skill_fading}\\tDemand_Multiplayer = {Demand_Multiplayer}')\n",
        "    print(f'DailySpending = {DailySpending}\\tDemand = {Demand}')\n",
        "    print('\\n\\n')"
      ],
      "metadata": {
        "colab": {
          "base_uri": "https://localhost:8080/"
        },
        "id": "JWnECsfAOmsq",
        "outputId": "a3de45dc-da8e-4d28-d295-f5c6d02ef4c1"
      },
      "execution_count": 14,
      "outputs": [
        {
          "output_type": "stream",
          "name": "stdout",
          "text": [
            "Step 1\n",
            "Skill_improvement = 0\tEducation_lost = 0\n",
            "Skill_fading = 1\tDemand_Multiplayer = 1.2\n",
            "DailySpending = 700\tDemand = 18\n",
            "\n",
            "\n",
            "\n",
            "Step 2\n",
            "Skill_improvement = 0\tEducation_lost = 0\n",
            "Skill_fading = 1\tDemand_Multiplayer = 1.0\n",
            "DailySpending = 700\tDemand = 15\n",
            "\n",
            "\n",
            "\n",
            "Step 3\n",
            "Skill_improvement = 0\tEducation_lost = 0\n",
            "Skill_fading = 1\tDemand_Multiplayer = 0.8\n",
            "DailySpending = 700\tDemand = 12\n",
            "\n",
            "\n",
            "\n",
            "Step 4\n",
            "Skill_improvement = 0\tEducation_lost = 0\n",
            "Skill_fading = 1\tDemand_Multiplayer = 0.6\n",
            "DailySpending = 700\tDemand = 9\n",
            "\n",
            "\n",
            "\n",
            "Step 5\n",
            "Skill_improvement = 0\tEducation_lost = 0\n",
            "Skill_fading = 1\tDemand_Multiplayer = 0.4\n",
            "DailySpending = 700\tDemand = 6\n",
            "\n",
            "\n",
            "\n"
          ]
        }
      ]
    }
  ]
}